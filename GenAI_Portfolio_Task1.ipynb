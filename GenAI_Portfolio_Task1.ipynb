{
  "cells": [
    {
      "cell_type": "markdown",
      "metadata": {
        "id": "lYBd8V649mxY"
      },
      "source": [
        "# 0. Pre"
      ]
    },
    {
      "cell_type": "code",
      "execution_count": null,
      "metadata": {
        "colab": {
          "base_uri": "https://localhost:8080/"
        },
        "collapsed": true,
        "id": "SRrB7AU18dx6",
        "outputId": "a37d3c27-9b79-4485-f2e8-afec9eb26547"
      },
      "outputs": [],
      "source": [
        "%pip install transformers\n",
        "%pip install datasets\n",
        "%pip install peft\n",
        "%pip install accelerate\n",
        "%pip install sacrebleu\n",
        "%pip install sentencepiece"
      ]
    },
    {
      "cell_type": "code",
      "execution_count": 184,
      "metadata": {},
      "outputs": [],
      "source": [
        "from datasets import load_dataset\n",
        "import json\n",
        "import os\n",
        "from transformers import AutoTokenizer, AutoModelForCausalLM\n",
        "import torch\n",
        "from sacrebleu import corpus_bleu"
      ]
    },
    {
      "cell_type": "markdown",
      "metadata": {
        "id": "KldE76rr8dx-"
      },
      "source": [
        "# 1. Load [Dataset A] and split it according to the designed ratio."
      ]
    },
    {
      "cell_type": "markdown",
      "metadata": {},
      "source": [
        "## 1.1 Load OPUS-100 dataset as [Dataset A]"
      ]
    },
    {
      "cell_type": "code",
      "execution_count": 185,
      "metadata": {},
      "outputs": [
        {
          "name": "stdout",
          "output_type": "stream",
          "text": [
            "Dataset({\n",
            "    features: ['translation'],\n",
            "    num_rows: 1000\n",
            "})\n"
          ]
        }
      ],
      "source": [
        "# Load German to French translation pairs from the OPUS-100 dataset\n",
        "dataset_a = load_dataset(\"Helsinki-NLP/opus-100\", \"de-fr\")\n",
        "# print(dataset_a)\n",
        "# print(dataset_a['test'][0])\n",
        "dataset_a = dataset_a['test'].shuffle(seed=123)         # Randomly shuffle the dataset\n",
        "dataset_a = dataset_a.select(range(1000))               # Select the first 1000 pairs of data\n",
        "print(dataset_a)\n",
        "# print(dataset_a[0])"
      ]
    },
    {
      "cell_type": "markdown",
      "metadata": {},
      "source": [
        "## 1.2 Split the [Dataset A] in a ratio of 8:2"
      ]
    },
    {
      "cell_type": "code",
      "execution_count": 189,
      "metadata": {},
      "outputs": [
        {
          "name": "stdout",
          "output_type": "stream",
          "text": [
            "Dataset({\n",
            "    features: ['translation'],\n",
            "    num_rows: 800\n",
            "})\n",
            "Dataset({\n",
            "    features: ['translation'],\n",
            "    num_rows: 200\n",
            "})\n"
          ]
        }
      ],
      "source": [
        "train_test_split = dataset_a.train_test_split(test_size=0.2, seed=123)\n",
        "dataset_a_train  = train_test_split['train']\n",
        "dataset_a_test   = train_test_split['test']\n",
        "print(dataset_a_train)\n",
        "print(dataset_a_test)"
      ]
    },
    {
      "cell_type": "markdown",
      "metadata": {},
      "source": [
        "## 1.3 Save [Dataset A: Train] and [Dataset A: Test] in json format"
      ]
    },
    {
      "cell_type": "code",
      "execution_count": 193,
      "metadata": {},
      "outputs": [],
      "source": [
        "dataset_a_train_list = [d for d in dataset_a_train['translation']]\n",
        "dataset_a_test_list  = [d for d in dataset_a_test['translation']]\n",
        "\n",
        "datasets_dir = './datasets'\n",
        "if not os.path.exists(datasets_dir):\n",
        "    os.makedirs(datasets_dir)\n",
        "dataset_a_train_path = os.path.join(datasets_dir, \"dataset_a_train.json\")\n",
        "dataset_a_test_path  = os.path.join(datasets_dir, \"dataset_a_test.json\")\n",
        "\n",
        "with open(dataset_a_train_path, \"w\", encoding=\"utf-8\") as f:\n",
        "    json.dump(dataset_a_train_list, f, ensure_ascii=False, indent=4)\n",
        "with open(dataset_a_test_path, \"w\", encoding=\"utf-8\") as f:\n",
        "    json.dump(dataset_a_test_list, f, ensure_ascii=False, indent=4)"
      ]
    },
    {
      "cell_type": "markdown",
      "metadata": {},
      "source": [
        "Verify that the files were saved successfully"
      ]
    },
    {
      "cell_type": "code",
      "execution_count": 212,
      "metadata": {},
      "outputs": [
        {
          "name": "stdout",
          "output_type": "stream",
          "text": [
            "Does dataset_a_train.json exist?  True\n",
            "Does  dataset_a_test.json exist?  True\n",
            "First data in [Dataset A: Train]:\n",
            " {'de': 'Die Frage ist, ob Ihr mutig genug seid, das Gleiche zu tun.', 'fr': \"Il est temps de vous demander si c'est votre cas.\"}\n",
            "First data in [Dataset A: Test]:\n",
            " {'de': 'Wenn du mich aufmuntern willst, dann bring das Gras mit, dass wir auf der Farmstation hinter der Wand deines Zimmers versteckt haben.', 'fr': \"Si tu veux me réconforter, quand tu seras à la Station Agro, apporte moi l'herbe qu'on a planqué derrière le mur de notre chambre.\"}\n"
          ]
        }
      ],
      "source": [
        "# Verify that files exist or not\n",
        "print(\"Does dataset_a_train.json exist? \", os.path.exists(dataset_a_train_path))\n",
        "print(\"Does  dataset_a_test.json exist? \",  os.path.exists(dataset_a_test_path))\n",
        "\n",
        "# Load and print json file contents\n",
        "with open(dataset_a_train_path, \"r\", encoding=\"utf-8\") as f:\n",
        "    loaded_dataset_a_train = json.load(f)\n",
        "\n",
        "with open(dataset_a_test_path, \"r\", encoding=\"utf-8\") as f:\n",
        "    loaded_dataset_a_test = json.load(f)\n",
        "\n",
        "print(\"First data in [Dataset A: Train]:\\n\", loaded_dataset_a_train[0])\n",
        "print(\"First data in [Dataset A: Test]:\\n\", loaded_dataset_a_test[0])"
      ]
    },
    {
      "cell_type": "markdown",
      "metadata": {
        "id": "eOjje-EK8dyA"
      },
      "source": [
        "# 2. Load your chosen pre-trained model [Model A]."
      ]
    },
    {
      "cell_type": "markdown",
      "metadata": {
        "id": "lMIUYz2G8dyA"
      },
      "source": [
        "# 3. Evaluate [Model A] on the test dataset [Dataset A: Test] using the chosen metric."
      ]
    },
    {
      "cell_type": "markdown",
      "metadata": {
        "id": "526qPzM48dyB"
      },
      "source": [
        "# 4. Fine-tune [Model A] on the training dataset [Dataset A: Train] to create [Model B]."
      ]
    },
    {
      "cell_type": "markdown",
      "metadata": {
        "id": "PqiFe6L38dyB"
      },
      "source": [
        "# 5. Evaluate [Model B] on the test dataset [Dataset A: Test] using the chosen metric."
      ]
    },
    {
      "cell_type": "markdown",
      "metadata": {
        "id": "guR7d_qJ8dyC"
      },
      "source": [
        "# 6. Use the designed prompt to generate a new synthesized dataset [Dataset B], twice the size of the training set [Dataset A: Train], using the selected larger model."
      ]
    },
    {
      "cell_type": "markdown",
      "metadata": {
        "id": "85dP9YE28dyC"
      },
      "source": [
        "# 7. Fine-tune [Model A] on the synthesized dataset [Dataset B] to create [Model C]."
      ]
    },
    {
      "cell_type": "markdown",
      "metadata": {
        "id": "saxEfwcb8dyC"
      },
      "source": [
        "# 8. Evaluate [Model C] on the test dataset [Dataset A: Test] using the chosen metric."
      ]
    },
    {
      "cell_type": "markdown",
      "metadata": {
        "id": "cTjfyvsy8dyC"
      },
      "source": [
        "# 9. Combine [Dataset A: Train] and [Dataset B], shuffle them with suitable seeds, and create [Dataset C]."
      ]
    },
    {
      "cell_type": "markdown",
      "metadata": {
        "id": "sBSFeEdQ8dyD"
      },
      "source": [
        "# 10. Fine-tune [Model A] on the combined dataset [Dataset C] to create [Model D]."
      ]
    },
    {
      "cell_type": "markdown",
      "metadata": {
        "id": "8uag6CQm8dyD"
      },
      "source": [
        "# 11. Evaluate [Model D] on the test dataset [Dataset A: Test] using the chosen metric."
      ]
    },
    {
      "cell_type": "markdown",
      "metadata": {
        "id": "24n7eXnN8dyD"
      },
      "source": [
        "# 12. Plot the performance of all models using appropriate visualizations."
      ]
    }
  ],
  "metadata": {
    "colab": {
      "provenance": []
    },
    "kernelspec": {
      "display_name": "base",
      "language": "python",
      "name": "python3"
    },
    "language_info": {
      "codemirror_mode": {
        "name": "ipython",
        "version": 3
      },
      "file_extension": ".py",
      "mimetype": "text/x-python",
      "name": "python",
      "nbconvert_exporter": "python",
      "pygments_lexer": "ipython3",
      "version": "3.12.7"
    },
    "widgets": {
      "application/vnd.jupyter.widget-state+json": {
        "00698f554dcb4e4d85e4c99e2812c0f0": {
          "model_module": "@jupyter-widgets/base",
          "model_module_version": "1.2.0",
          "model_name": "LayoutModel",
          "state": {
            "_model_module": "@jupyter-widgets/base",
            "_model_module_version": "1.2.0",
            "_model_name": "LayoutModel",
            "_view_count": null,
            "_view_module": "@jupyter-widgets/base",
            "_view_module_version": "1.2.0",
            "_view_name": "LayoutView",
            "align_content": null,
            "align_items": null,
            "align_self": null,
            "border": null,
            "bottom": null,
            "display": null,
            "flex": null,
            "flex_flow": null,
            "grid_area": null,
            "grid_auto_columns": null,
            "grid_auto_flow": null,
            "grid_auto_rows": null,
            "grid_column": null,
            "grid_gap": null,
            "grid_row": null,
            "grid_template_areas": null,
            "grid_template_columns": null,
            "grid_template_rows": null,
            "height": null,
            "justify_content": null,
            "justify_items": null,
            "left": null,
            "margin": null,
            "max_height": null,
            "max_width": null,
            "min_height": null,
            "min_width": null,
            "object_fit": null,
            "object_position": null,
            "order": null,
            "overflow": null,
            "overflow_x": null,
            "overflow_y": null,
            "padding": null,
            "right": null,
            "top": null,
            "visibility": null,
            "width": null
          }
        },
        "06310f4936644571a5dd65f46b8cb9cd": {
          "model_module": "@jupyter-widgets/base",
          "model_module_version": "1.2.0",
          "model_name": "LayoutModel",
          "state": {
            "_model_module": "@jupyter-widgets/base",
            "_model_module_version": "1.2.0",
            "_model_name": "LayoutModel",
            "_view_count": null,
            "_view_module": "@jupyter-widgets/base",
            "_view_module_version": "1.2.0",
            "_view_name": "LayoutView",
            "align_content": null,
            "align_items": null,
            "align_self": null,
            "border": null,
            "bottom": null,
            "display": null,
            "flex": null,
            "flex_flow": null,
            "grid_area": null,
            "grid_auto_columns": null,
            "grid_auto_flow": null,
            "grid_auto_rows": null,
            "grid_column": null,
            "grid_gap": null,
            "grid_row": null,
            "grid_template_areas": null,
            "grid_template_columns": null,
            "grid_template_rows": null,
            "height": null,
            "justify_content": null,
            "justify_items": null,
            "left": null,
            "margin": null,
            "max_height": null,
            "max_width": null,
            "min_height": null,
            "min_width": null,
            "object_fit": null,
            "object_position": null,
            "order": null,
            "overflow": null,
            "overflow_x": null,
            "overflow_y": null,
            "padding": null,
            "right": null,
            "top": null,
            "visibility": null,
            "width": null
          }
        },
        "104ebabba12649d19157e6eb850c195e": {
          "model_module": "@jupyter-widgets/controls",
          "model_module_version": "1.5.0",
          "model_name": "ProgressStyleModel",
          "state": {
            "_model_module": "@jupyter-widgets/controls",
            "_model_module_version": "1.5.0",
            "_model_name": "ProgressStyleModel",
            "_view_count": null,
            "_view_module": "@jupyter-widgets/base",
            "_view_module_version": "1.2.0",
            "_view_name": "StyleView",
            "bar_color": null,
            "description_width": ""
          }
        },
        "27423a5013464abeb2ff42f4466d22db": {
          "model_module": "@jupyter-widgets/controls",
          "model_module_version": "1.5.0",
          "model_name": "HTMLModel",
          "state": {
            "_dom_classes": [],
            "_model_module": "@jupyter-widgets/controls",
            "_model_module_version": "1.5.0",
            "_model_name": "HTMLModel",
            "_view_count": null,
            "_view_module": "@jupyter-widgets/controls",
            "_view_module_version": "1.5.0",
            "_view_name": "HTMLView",
            "description": "",
            "description_tooltip": null,
            "layout": "IPY_MODEL_c941c861b7e14620bf099fe646d96319",
            "placeholder": "​",
            "style": "IPY_MODEL_bd3452eb755445cdad0dacbf3203cc92",
            "value": "Map: 100%"
          }
        },
        "765e5f0560c84c52b34d9f074d29c986": {
          "model_module": "@jupyter-widgets/base",
          "model_module_version": "1.2.0",
          "model_name": "LayoutModel",
          "state": {
            "_model_module": "@jupyter-widgets/base",
            "_model_module_version": "1.2.0",
            "_model_name": "LayoutModel",
            "_view_count": null,
            "_view_module": "@jupyter-widgets/base",
            "_view_module_version": "1.2.0",
            "_view_name": "LayoutView",
            "align_content": null,
            "align_items": null,
            "align_self": null,
            "border": null,
            "bottom": null,
            "display": null,
            "flex": null,
            "flex_flow": null,
            "grid_area": null,
            "grid_auto_columns": null,
            "grid_auto_flow": null,
            "grid_auto_rows": null,
            "grid_column": null,
            "grid_gap": null,
            "grid_row": null,
            "grid_template_areas": null,
            "grid_template_columns": null,
            "grid_template_rows": null,
            "height": null,
            "justify_content": null,
            "justify_items": null,
            "left": null,
            "margin": null,
            "max_height": null,
            "max_width": null,
            "min_height": null,
            "min_width": null,
            "object_fit": null,
            "object_position": null,
            "order": null,
            "overflow": null,
            "overflow_x": null,
            "overflow_y": null,
            "padding": null,
            "right": null,
            "top": null,
            "visibility": null,
            "width": null
          }
        },
        "804475a8dbef4bf1beac8a3e8e94894a": {
          "model_module": "@jupyter-widgets/controls",
          "model_module_version": "1.5.0",
          "model_name": "FloatProgressModel",
          "state": {
            "_dom_classes": [],
            "_model_module": "@jupyter-widgets/controls",
            "_model_module_version": "1.5.0",
            "_model_name": "FloatProgressModel",
            "_view_count": null,
            "_view_module": "@jupyter-widgets/controls",
            "_view_module_version": "1.5.0",
            "_view_name": "ProgressView",
            "bar_style": "success",
            "description": "",
            "description_tooltip": null,
            "layout": "IPY_MODEL_06310f4936644571a5dd65f46b8cb9cd",
            "max": 200,
            "min": 0,
            "orientation": "horizontal",
            "style": "IPY_MODEL_104ebabba12649d19157e6eb850c195e",
            "value": 200
          }
        },
        "9f564d330b6847a2b307e74e35ef8848": {
          "model_module": "@jupyter-widgets/controls",
          "model_module_version": "1.5.0",
          "model_name": "DescriptionStyleModel",
          "state": {
            "_model_module": "@jupyter-widgets/controls",
            "_model_module_version": "1.5.0",
            "_model_name": "DescriptionStyleModel",
            "_view_count": null,
            "_view_module": "@jupyter-widgets/base",
            "_view_module_version": "1.2.0",
            "_view_name": "StyleView",
            "description_width": ""
          }
        },
        "bd3452eb755445cdad0dacbf3203cc92": {
          "model_module": "@jupyter-widgets/controls",
          "model_module_version": "1.5.0",
          "model_name": "DescriptionStyleModel",
          "state": {
            "_model_module": "@jupyter-widgets/controls",
            "_model_module_version": "1.5.0",
            "_model_name": "DescriptionStyleModel",
            "_view_count": null,
            "_view_module": "@jupyter-widgets/base",
            "_view_module_version": "1.2.0",
            "_view_name": "StyleView",
            "description_width": ""
          }
        },
        "c5f53702252040259b6a1c73b8d48bfa": {
          "model_module": "@jupyter-widgets/controls",
          "model_module_version": "1.5.0",
          "model_name": "HTMLModel",
          "state": {
            "_dom_classes": [],
            "_model_module": "@jupyter-widgets/controls",
            "_model_module_version": "1.5.0",
            "_model_name": "HTMLModel",
            "_view_count": null,
            "_view_module": "@jupyter-widgets/controls",
            "_view_module_version": "1.5.0",
            "_view_name": "HTMLView",
            "description": "",
            "description_tooltip": null,
            "layout": "IPY_MODEL_765e5f0560c84c52b34d9f074d29c986",
            "placeholder": "​",
            "style": "IPY_MODEL_9f564d330b6847a2b307e74e35ef8848",
            "value": " 200/200 [00:00&lt;00:00, 910.55 examples/s]"
          }
        },
        "c941c861b7e14620bf099fe646d96319": {
          "model_module": "@jupyter-widgets/base",
          "model_module_version": "1.2.0",
          "model_name": "LayoutModel",
          "state": {
            "_model_module": "@jupyter-widgets/base",
            "_model_module_version": "1.2.0",
            "_model_name": "LayoutModel",
            "_view_count": null,
            "_view_module": "@jupyter-widgets/base",
            "_view_module_version": "1.2.0",
            "_view_name": "LayoutView",
            "align_content": null,
            "align_items": null,
            "align_self": null,
            "border": null,
            "bottom": null,
            "display": null,
            "flex": null,
            "flex_flow": null,
            "grid_area": null,
            "grid_auto_columns": null,
            "grid_auto_flow": null,
            "grid_auto_rows": null,
            "grid_column": null,
            "grid_gap": null,
            "grid_row": null,
            "grid_template_areas": null,
            "grid_template_columns": null,
            "grid_template_rows": null,
            "height": null,
            "justify_content": null,
            "justify_items": null,
            "left": null,
            "margin": null,
            "max_height": null,
            "max_width": null,
            "min_height": null,
            "min_width": null,
            "object_fit": null,
            "object_position": null,
            "order": null,
            "overflow": null,
            "overflow_x": null,
            "overflow_y": null,
            "padding": null,
            "right": null,
            "top": null,
            "visibility": null,
            "width": null
          }
        },
        "e58faf859dfb4fd5bebd755812e5d9ca": {
          "model_module": "@jupyter-widgets/controls",
          "model_module_version": "1.5.0",
          "model_name": "HBoxModel",
          "state": {
            "_dom_classes": [],
            "_model_module": "@jupyter-widgets/controls",
            "_model_module_version": "1.5.0",
            "_model_name": "HBoxModel",
            "_view_count": null,
            "_view_module": "@jupyter-widgets/controls",
            "_view_module_version": "1.5.0",
            "_view_name": "HBoxView",
            "box_style": "",
            "children": [
              "IPY_MODEL_27423a5013464abeb2ff42f4466d22db",
              "IPY_MODEL_804475a8dbef4bf1beac8a3e8e94894a",
              "IPY_MODEL_c5f53702252040259b6a1c73b8d48bfa"
            ],
            "layout": "IPY_MODEL_00698f554dcb4e4d85e4c99e2812c0f0"
          }
        }
      }
    }
  },
  "nbformat": 4,
  "nbformat_minor": 0
}
